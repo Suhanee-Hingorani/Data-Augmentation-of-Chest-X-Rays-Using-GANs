{
  "cells": [
    {
      "cell_type": "code",
      "execution_count": null,
      "id": "73926ca7-1247-4b3a-872b-1805601ab369",
      "metadata": {
        "colab": {
          "base_uri": "https://localhost:8080/"
        },
        "id": "73926ca7-1247-4b3a-872b-1805601ab369",
        "outputId": "0b33512a-8171-4f93-fe9c-c9cad4f08b37"
      },
      "outputs": [
        {
          "output_type": "stream",
          "name": "stdout",
          "text": [
            "Collecting SimpleITK\n",
            "  Downloading SimpleITK-2.4.0-cp310-cp310-manylinux_2_17_x86_64.manylinux2014_x86_64.whl.metadata (7.9 kB)\n",
            "Downloading SimpleITK-2.4.0-cp310-cp310-manylinux_2_17_x86_64.manylinux2014_x86_64.whl (52.4 MB)\n",
            "\u001b[2K   \u001b[90m━━━━━━━━━━━━━━━━━━━━━━━━━━━━━━━━━━━━━━━━\u001b[0m \u001b[32m52.4/52.4 MB\u001b[0m \u001b[31m13.6 MB/s\u001b[0m eta \u001b[36m0:00:00\u001b[0m\n",
            "\u001b[?25hInstalling collected packages: SimpleITK\n",
            "Successfully installed SimpleITK-2.4.0\n"
          ]
        }
      ],
      "source": [
        "!pip install SimpleITK"
      ]
    },
    {
      "cell_type": "code",
      "execution_count": null,
      "id": "aa5e4164-99cf-40d4-b9ab-ea6ef14c3318",
      "metadata": {
        "colab": {
          "base_uri": "https://localhost:8080/"
        },
        "id": "aa5e4164-99cf-40d4-b9ab-ea6ef14c3318",
        "outputId": "ed8d4abd-570c-4e06-e3f3-392f791e5972"
      },
      "outputs": [
        {
          "output_type": "stream",
          "name": "stdout",
          "text": [
            "Requirement already satisfied: torchsummary in /usr/local/lib/python3.10/dist-packages (1.5.1)\n"
          ]
        }
      ],
      "source": [
        "!pip install torchsummary"
      ]
    },
    {
      "cell_type": "code",
      "execution_count": null,
      "id": "63dc7d29-0dfe-4d77-b780-aae443848fa0",
      "metadata": {
        "colab": {
          "base_uri": "https://localhost:8080/"
        },
        "id": "63dc7d29-0dfe-4d77-b780-aae443848fa0",
        "outputId": "0674bffd-b99b-4497-c08d-aa5f4f7991d3"
      },
      "outputs": [
        {
          "output_type": "stream",
          "name": "stdout",
          "text": [
            "Looking in indexes: https://download.pytorch.org/whl/cu118\n",
            "Requirement already satisfied: torch in /usr/local/lib/python3.10/dist-packages (2.5.0+cu121)\n",
            "Requirement already satisfied: torchvision in /usr/local/lib/python3.10/dist-packages (0.20.0+cu121)\n",
            "Requirement already satisfied: filelock in /usr/local/lib/python3.10/dist-packages (from torch) (3.16.1)\n",
            "Requirement already satisfied: typing-extensions>=4.8.0 in /usr/local/lib/python3.10/dist-packages (from torch) (4.12.2)\n",
            "Requirement already satisfied: networkx in /usr/local/lib/python3.10/dist-packages (from torch) (3.4.2)\n",
            "Requirement already satisfied: jinja2 in /usr/local/lib/python3.10/dist-packages (from torch) (3.1.4)\n",
            "Requirement already satisfied: fsspec in /usr/local/lib/python3.10/dist-packages (from torch) (2024.10.0)\n",
            "Requirement already satisfied: sympy==1.13.1 in /usr/local/lib/python3.10/dist-packages (from torch) (1.13.1)\n",
            "Requirement already satisfied: mpmath<1.4,>=1.1.0 in /usr/local/lib/python3.10/dist-packages (from sympy==1.13.1->torch) (1.3.0)\n",
            "Requirement already satisfied: numpy in /usr/local/lib/python3.10/dist-packages (from torchvision) (1.26.4)\n",
            "Requirement already satisfied: pillow!=8.3.*,>=5.3.0 in /usr/local/lib/python3.10/dist-packages (from torchvision) (11.0.0)\n",
            "Requirement already satisfied: MarkupSafe>=2.0 in /usr/local/lib/python3.10/dist-packages (from jinja2->torch) (3.0.2)\n"
          ]
        }
      ],
      "source": [
        "!pip install torch torchvision --index-url https://download.pytorch.org/whl/cu118"
      ]
    },
    {
      "cell_type": "code",
      "execution_count": null,
      "id": "03c5e656-accb-40e8-a944-5cb139e580a8",
      "metadata": {
        "id": "03c5e656-accb-40e8-a944-5cb139e580a8"
      },
      "outputs": [],
      "source": [
        "import os\n",
        "import imageio.v2 as imageio\n",
        "import matplotlib.pyplot as plt\n",
        "#import pydicom\n",
        "from skimage import transform\n",
        "import glob\n",
        "import torch\n",
        "from torch.utils.data import Dataset, DataLoader\n",
        "import SimpleITK as sitk #for reading dicom img instead of pydicom\n",
        "import numpy as np\n",
        "from torchvision.transforms import transforms\n",
        "import logging\n",
        "from torchvision.utils import make_grid\n",
        "from torch import nn\n",
        "from torchsummary import summary\n",
        "from tqdm import tqdm\n",
        "from PIL import Image\n",
        "import torch.optim as optim\n",
        "import time\n",
        "\n"
      ]
    },
    {
      "cell_type": "code",
      "execution_count": null,
      "id": "4b640729-986a-417a-8ad2-6f942c92ca26",
      "metadata": {
        "id": "4b640729-986a-417a-8ad2-6f942c92ca26"
      },
      "outputs": [],
      "source": [
        "\n",
        "from torch.nn import functional as F\n",
        "from torchvision.models import inception_v3\n",
        "from scipy.linalg import sqrtm\n",
        "from torch.utils.data import DataLoader\n",
        "from torchvision.transforms import Resize"
      ]
    },
    {
      "cell_type": "code",
      "execution_count": null,
      "id": "bdfce699-e1a8-4436-a1c4-e2ffaf959ad5",
      "metadata": {
        "colab": {
          "base_uri": "https://localhost:8080/"
        },
        "id": "bdfce699-e1a8-4436-a1c4-e2ffaf959ad5",
        "outputId": "9f8538c9-8af1-496d-e16c-a6d7a7ec3cdf"
      },
      "outputs": [
        {
          "output_type": "stream",
          "name": "stdout",
          "text": [
            "2.5.0+cu121\n"
          ]
        }
      ],
      "source": [
        "import torch\n",
        "print(torch.__version__)"
      ]
    },
    {
      "cell_type": "code",
      "execution_count": null,
      "id": "c1327d03-a9c1-4614-aa03-81a946356f1f",
      "metadata": {
        "colab": {
          "base_uri": "https://localhost:8080/"
        },
        "id": "c1327d03-a9c1-4614-aa03-81a946356f1f",
        "outputId": "005f189c-ce7e-46dd-8805-5530b5d6c52f"
      },
      "outputs": [
        {
          "output_type": "stream",
          "name": "stdout",
          "text": [
            "2.5.0+cu121\n"
          ]
        }
      ],
      "source": [
        "import torch\n",
        "print(torch.__version__)"
      ]
    },
    {
      "cell_type": "code",
      "execution_count": null,
      "id": "08396e90-e9a9-4038-99c7-62f10118e764",
      "metadata": {
        "colab": {
          "base_uri": "https://localhost:8080/"
        },
        "id": "08396e90-e9a9-4038-99c7-62f10118e764",
        "outputId": "975a1545-4f44-49f0-ec50-1e44ce73be68"
      },
      "outputs": [
        {
          "output_type": "stream",
          "name": "stdout",
          "text": [
            "Collecting torchmetrics\n",
            "  Downloading torchmetrics-1.6.0-py3-none-any.whl.metadata (20 kB)\n",
            "Requirement already satisfied: numpy>1.20.0 in /usr/local/lib/python3.10/dist-packages (from torchmetrics) (1.26.4)\n",
            "Requirement already satisfied: packaging>17.1 in /usr/local/lib/python3.10/dist-packages (from torchmetrics) (24.2)\n",
            "Requirement already satisfied: torch>=2.0.0 in /usr/local/lib/python3.10/dist-packages (from torchmetrics) (2.5.0+cu121)\n",
            "Collecting lightning-utilities>=0.8.0 (from torchmetrics)\n",
            "  Downloading lightning_utilities-0.11.8-py3-none-any.whl.metadata (5.2 kB)\n",
            "Requirement already satisfied: setuptools in /usr/local/lib/python3.10/dist-packages (from lightning-utilities>=0.8.0->torchmetrics) (75.1.0)\n",
            "Requirement already satisfied: typing-extensions in /usr/local/lib/python3.10/dist-packages (from lightning-utilities>=0.8.0->torchmetrics) (4.12.2)\n",
            "Requirement already satisfied: filelock in /usr/local/lib/python3.10/dist-packages (from torch>=2.0.0->torchmetrics) (3.16.1)\n",
            "Requirement already satisfied: networkx in /usr/local/lib/python3.10/dist-packages (from torch>=2.0.0->torchmetrics) (3.4.2)\n",
            "Requirement already satisfied: jinja2 in /usr/local/lib/python3.10/dist-packages (from torch>=2.0.0->torchmetrics) (3.1.4)\n",
            "Requirement already satisfied: fsspec in /usr/local/lib/python3.10/dist-packages (from torch>=2.0.0->torchmetrics) (2024.10.0)\n",
            "Requirement already satisfied: sympy==1.13.1 in /usr/local/lib/python3.10/dist-packages (from torch>=2.0.0->torchmetrics) (1.13.1)\n",
            "Requirement already satisfied: mpmath<1.4,>=1.1.0 in /usr/local/lib/python3.10/dist-packages (from sympy==1.13.1->torch>=2.0.0->torchmetrics) (1.3.0)\n",
            "Requirement already satisfied: MarkupSafe>=2.0 in /usr/local/lib/python3.10/dist-packages (from jinja2->torch>=2.0.0->torchmetrics) (3.0.2)\n",
            "Downloading torchmetrics-1.6.0-py3-none-any.whl (926 kB)\n",
            "\u001b[2K   \u001b[90m━━━━━━━━━━━━━━━━━━━━━━━━━━━━━━━━━━━━━━━━\u001b[0m \u001b[32m926.4/926.4 kB\u001b[0m \u001b[31m21.0 MB/s\u001b[0m eta \u001b[36m0:00:00\u001b[0m\n",
            "\u001b[?25hDownloading lightning_utilities-0.11.8-py3-none-any.whl (26 kB)\n",
            "Installing collected packages: lightning-utilities, torchmetrics\n",
            "Successfully installed lightning-utilities-0.11.8 torchmetrics-1.6.0\n"
          ]
        }
      ],
      "source": [
        "!pip install torchmetrics\n"
      ]
    },
    {
      "cell_type": "markdown",
      "id": "9fdabc7d-bf28-4a55-a2a6-dc1318e00baf",
      "metadata": {
        "id": "9fdabc7d-bf28-4a55-a2a6-dc1318e00baf"
      },
      "source": [
        "# Explore"
      ]
    },
    {
      "cell_type": "code",
      "execution_count": null,
      "id": "cd995be0-0772-4774-bdba-4c6f2770ebae",
      "metadata": {
        "id": "cd995be0-0772-4774-bdba-4c6f2770ebae"
      },
      "outputs": [],
      "source": [
        "class CTScanDataset(Dataset):\n",
        "    def __init__(self, file_paths, resize_size=(128,128)):\n",
        "        self.file_paths = file_paths\n",
        "        self.resize = transforms.Resize(resize_size)\n",
        "\n",
        "    def __len__(self):\n",
        "        return len(self.file_paths)\n",
        "\n",
        "    def __getitem__(self, idx):\n",
        "        file_path = self.file_paths[idx]\n",
        "        try:\n",
        "            image = sitk.ReadImage(file_path)\n",
        "            image_array = sitk.GetArrayFromImage(image)\n",
        "            #logging.info(f\"Successfully loaded image from {file_path}\")\n",
        "\n",
        "            # Convert to a tensor\n",
        "            image_tensor = torch.tensor(image_array, dtype=torch.float32)\n",
        "\n",
        "            # normalization\n",
        "            min_val = torch.min(image_tensor)\n",
        "            max_val = torch.max(image_tensor)\n",
        "            normalized_image = (image_tensor - min_val) / (max_val - min_val) * 2 - 1\n",
        "            #resize\n",
        "            image_tensor = self.resize(normalized_image.unsqueeze(0)).squeeze(0)\n",
        "\n",
        "            return image_tensor\n",
        "\n",
        "        except Exception as e:\n",
        "            #logging.error(f\"Error reading {file_path}: {e}\")\n",
        "            new_idx = (idx + 1) % len(self.file_paths)\n",
        "            return self.__getitem__(new_idx)"
      ]
    },
    {
      "cell_type": "code",
      "source": [
        "import kagglehub\n",
        "\n",
        "# Download latest version\n",
        "path = kagglehub.dataset_download(\"paultimothymooney/chest-xray-pneumonia\")\n",
        "\n",
        "print(\"Path to dataset files:\", path)"
      ],
      "metadata": {
        "colab": {
          "base_uri": "https://localhost:8080/"
        },
        "id": "6XzdWQXdOvK1",
        "outputId": "e325ddc7-4467-4b7f-8bea-04fc2ba43f0b"
      },
      "id": "6XzdWQXdOvK1",
      "execution_count": null,
      "outputs": [
        {
          "output_type": "stream",
          "name": "stdout",
          "text": [
            "Warning: Looks like you're using an outdated `kagglehub` version, please consider updating (latest version: 0.3.4)\n",
            "Downloading from https://www.kaggle.com/api/v1/datasets/download/paultimothymooney/chest-xray-pneumonia?dataset_version_number=2...\n"
          ]
        },
        {
          "output_type": "stream",
          "name": "stderr",
          "text": [
            "100%|██████████| 2.29G/2.29G [00:23<00:00, 107MB/s]"
          ]
        },
        {
          "output_type": "stream",
          "name": "stdout",
          "text": [
            "Extracting files...\n"
          ]
        },
        {
          "output_type": "stream",
          "name": "stderr",
          "text": [
            "\n"
          ]
        },
        {
          "output_type": "stream",
          "name": "stdout",
          "text": [
            "Path to dataset files: /root/.cache/kagglehub/datasets/paultimothymooney/chest-xray-pneumonia/versions/2\n"
          ]
        }
      ]
    },
    {
      "cell_type": "code",
      "execution_count": null,
      "id": "c0f8a4af-20be-48b3-9295-0d9b723b051e",
      "metadata": {
        "colab": {
          "base_uri": "https://localhost:8080/"
        },
        "id": "c0f8a4af-20be-48b3-9295-0d9b723b051e",
        "outputId": "af51b693-3db3-46b7-d1cb-2d9135e2f15e"
      },
      "outputs": [
        {
          "output_type": "stream",
          "name": "stdout",
          "text": [
            "Found 11712 JPEG files\n",
            "Length of dataset is: 11712\n",
            "Length of dataloader is (number of batches): 92\n"
          ]
        }
      ],
      "source": [
        "# Update file search pattern for JPEG files\n",
        "file_paths = glob.glob(os.path.join(path, '**', '*.jpeg'), recursive=True)\n",
        "\n",
        "if len(file_paths) == 0:\n",
        "    print(\"No JPEG files found.\")\n",
        "else:\n",
        "    print(\"Found\", len(file_paths), \"JPEG files\")\n",
        "\n",
        "    # Proceed with dataset creation and DataLoader setup\n",
        "    dataset = CTScanDataset(file_paths, resize_size=(128,128))\n",
        "    print(\"Length of dataset is:\", len(dataset))\n",
        "\n",
        "    dataloader = DataLoader(dataset, batch_size=128, shuffle=True)\n",
        "    print(\"Length of dataloader is (number of batches):\", len(dataloader))"
      ]
    },
    {
      "cell_type": "code",
      "execution_count": null,
      "id": "73db5ba4-cdd2-424f-94c0-4cf0c687b7aa",
      "metadata": {
        "colab": {
          "base_uri": "https://localhost:8080/"
        },
        "id": "73db5ba4-cdd2-424f-94c0-4cf0c687b7aa",
        "outputId": "1871ee34-087f-4b1c-ae81-61c254d5419a"
      },
      "outputs": [
        {
          "output_type": "execute_result",
          "data": {
            "text/plain": [
              "True"
            ]
          },
          "metadata": {},
          "execution_count": 12
        }
      ],
      "source": [
        "torch.cuda.is_available()"
      ]
    },
    {
      "cell_type": "code",
      "execution_count": null,
      "id": "7b18d39a-64b5-439b-aa48-8e4d75abf974",
      "metadata": {
        "colab": {
          "base_uri": "https://localhost:8080/",
          "height": 36
        },
        "id": "7b18d39a-64b5-439b-aa48-8e4d75abf974",
        "outputId": "45b6ff33-d748-47db-eea4-75fece467495"
      },
      "outputs": [
        {
          "output_type": "execute_result",
          "data": {
            "text/plain": [
              "'Tesla T4'"
            ],
            "application/vnd.google.colaboratory.intrinsic+json": {
              "type": "string"
            }
          },
          "metadata": {},
          "execution_count": 13
        }
      ],
      "source": [
        "torch.cuda.get_device_name(0)"
      ]
    },
    {
      "cell_type": "code",
      "execution_count": null,
      "id": "72ac0f92-6d0c-4644-8478-c92485c0f844",
      "metadata": {
        "id": "72ac0f92-6d0c-4644-8478-c92485c0f844"
      },
      "outputs": [],
      "source": [
        "def show_tensor_images(tensor_img, num_images = 16, size=(1, 28, 28)):\n",
        "\n",
        "    unflat_img = tensor_img.detach().cpu()\n",
        "    img_grid = make_grid(unflat_img[:num_images], nrow=4)\n",
        "    plt.imshow(img_grid.permute(1, 2, 0).squeeze())\n",
        "    plt.show()\n"
      ]
    },
    {
      "cell_type": "code",
      "source": [
        "import os\n",
        "import glob\n",
        "from PIL import Image\n",
        "import torch\n",
        "from torchvision import transforms\n",
        "from torch.utils.data import DataLoader\n",
        "\n",
        "# Set up transformations to resize and convert images to tensor format\n",
        "transform = transforms.Compose([\n",
        "    transforms.Grayscale(num_output_channels=1),  # Ensures 1 channel for grayscale\n",
        "    transforms.Resize((128, 128)),\n",
        "    transforms.ToTensor()\n",
        "])\n",
        "\n",
        "# Path to dataset\n",
        "path = \"/root/.cache/kagglehub/datasets/paultimothymooney/chest-xray-pneumonia/versions/2\"\n",
        "file_paths = glob.glob(os.path.join(path, '**', '*.jpeg'), recursive=True)\n",
        "print(\"Found\", len(file_paths), \"JPEG files\")\n",
        "\n",
        "# Load and transform images directly\n",
        "def load_and_transform_images(file_paths):\n",
        "    images = []\n",
        "    for img_path in file_paths:\n",
        "        image = Image.open(img_path)\n",
        "        image = transform(image)  # Apply resizing and tensor conversion\n",
        "        images.append(image)\n",
        "    return images\n",
        "\n",
        "# Load images and create DataLoader\n",
        "images = load_and_transform_images(file_paths)\n",
        "dataloader = DataLoader(images, batch_size=128, shuffle=True)\n",
        "\n",
        "# Function to visualize a batch of images\n",
        "def show_tensor_images(tensor_img, num_images=16, size=(1, 128, 128)):\n",
        "    unflat_img = tensor_img.detach().cpu()\n",
        "    img_grid = make_grid(unflat_img[:num_images], nrow=4)\n",
        "    plt.imshow(img_grid.permute(1, 2, 0).squeeze())\n",
        "    plt.show()\n",
        "\n",
        "# Display a batch\n",
        "my_batch = next(iter(dataloader))\n",
        "show_tensor_images(my_batch, num_images=16, size=(1, 128, 128))\n"
      ],
      "metadata": {
        "colab": {
          "base_uri": "https://localhost:8080/",
          "height": 452
        },
        "id": "x_ozk26lTs4M",
        "outputId": "7ae10c15-dfb0-4d2b-e5c5-e9d4b3bc6062"
      },
      "id": "x_ozk26lTs4M",
      "execution_count": null,
      "outputs": [
        {
          "output_type": "stream",
          "name": "stdout",
          "text": [
            "Found 11712 JPEG files\n"
          ]
        },
        {
          "output_type": "display_data",
          "data": {
            "text/plain": [
              "<Figure size 640x480 with 1 Axes>"
            ],
            "image/png": "[encoded data removed]"
          },
          "metadata": {}
        }
      ]
    },
    {
      "cell_type": "markdown",
      "id": "27650bb2-c63f-4f0f-9e97-0e84168bde1b",
      "metadata": {
        "id": "27650bb2-c63f-4f0f-9e97-0e84168bde1b"
      },
      "source": [
        "# Models"
      ]
    },
    {
      "cell_type": "code",
      "execution_count": null,
      "id": "e273548e-b0ee-4264-b434-5847fdd743d4",
      "metadata": {
        "id": "e273548e-b0ee-4264-b434-5847fdd743d4"
      },
      "outputs": [],
      "source": [
        "checkpoint_dir = './checkpoint_data2/'\n",
        "os.makedirs(checkpoint_dir, exist_ok=True)"
      ]
    },
    {
      "cell_type": "code",
      "execution_count": null,
      "id": "70b03796-5c5f-417e-81c6-4f58f118911f",
      "metadata": {
        "id": "70b03796-5c5f-417e-81c6-4f58f118911f"
      },
      "outputs": [],
      "source": [
        "class Generator(nn.Module):\n",
        "    def __init__(self, noise_dim):\n",
        "        super(Generator, self).__init__()\n",
        "        self.main = nn.Sequential(\n",
        "            nn.ConvTranspose2d(noise_dim, 1024, 4, 1, 0, bias=False),\n",
        "            nn.BatchNorm2d(1024),\n",
        "            nn.ReLU(True),\n",
        "            nn.ConvTranspose2d(1024, 512, 4, 2, 1, bias=False),\n",
        "            nn.BatchNorm2d(512),\n",
        "            nn.ReLU(True),\n",
        "            nn.ConvTranspose2d(512, 256, 4, 2, 1, bias=False),\n",
        "            nn.BatchNorm2d(256),\n",
        "            nn.ReLU(True),\n",
        "            nn.ConvTranspose2d(256, 128, 4, 2, 1, bias=False),\n",
        "            nn.BatchNorm2d(128),\n",
        "            nn.ReLU(True),\n",
        "            nn.ConvTranspose2d(128, 64, 4, 2, 1, bias=False),\n",
        "            nn.BatchNorm2d(64),\n",
        "            nn.ReLU(True),\n",
        "            nn.ConvTranspose2d(64, 1, 4, 2, 1, bias=False),\n",
        "            nn.Tanh()\n",
        "        )\n",
        "\n",
        "    def forward(self, input):\n",
        "        return self.main(input)\n",
        "\n",
        "class Discriminator(nn.Module):\n",
        "    def __init__(self):\n",
        "        super(Discriminator, self).__init__()\n",
        "        self.main = nn.Sequential(\n",
        "            nn.Conv2d(1, 64, 4, 2, 1, bias=False),\n",
        "            nn.LeakyReLU(0.2, inplace=True),\n",
        "            nn.Conv2d(64, 128, 4, 2, 1, bias=False),\n",
        "            nn.BatchNorm2d(128),\n",
        "            nn.LeakyReLU(0.2, inplace=True),\n",
        "            nn.Conv2d(128, 256, 4, 2, 1, bias=False),\n",
        "            nn.BatchNorm2d(256),\n",
        "            nn.LeakyReLU(0.2, inplace=True),\n",
        "            nn.Conv2d(256, 512, 4, 2, 1, bias=False),\n",
        "            nn.BatchNorm2d(512),\n",
        "            nn.LeakyReLU(0.2, inplace=True),\n",
        "            nn.Conv2d(512, 1024, 4, 2, 1, bias=False),\n",
        "            nn.BatchNorm2d(1024),\n",
        "            nn.LeakyReLU(0.2, inplace=True),\n",
        "            nn.Conv2d(1024, 1, 4, 1, 0, bias=False),\n",
        "            nn.Sigmoid()\n",
        "        )\n",
        "\n",
        "    def forward(self, input):\n",
        "        return self.main(input)"
      ]
    },
    {
      "cell_type": "code",
      "execution_count": null,
      "id": "aad72765-cd92-4b51-9895-3bbbef428a42",
      "metadata": {
        "id": "aad72765-cd92-4b51-9895-3bbbef428a42"
      },
      "outputs": [],
      "source": [
        "device = \"cuda\""
      ]
    },
    {
      "cell_type": "code",
      "execution_count": null,
      "id": "273e02a9-da8e-4ace-b535-75e64bf60a03",
      "metadata": {
        "colab": {
          "base_uri": "https://localhost:8080/"
        },
        "id": "273e02a9-da8e-4ace-b535-75e64bf60a03",
        "outputId": "51928f6e-defd-45a6-9ebd-1039036dbcb3"
      },
      "outputs": [
        {
          "output_type": "stream",
          "name": "stdout",
          "text": [
            "----------------------------------------------------------------\n",
            "        Layer (type)               Output Shape         Param #\n",
            "================================================================\n",
            "            Conv2d-1           [-1, 64, 64, 64]           1,024\n",
            "         LeakyReLU-2           [-1, 64, 64, 64]               0\n",
            "            Conv2d-3          [-1, 128, 32, 32]         131,072\n",
            "       BatchNorm2d-4          [-1, 128, 32, 32]             256\n",
            "         LeakyReLU-5          [-1, 128, 32, 32]               0\n",
            "            Conv2d-6          [-1, 256, 16, 16]         524,288\n",
            "       BatchNorm2d-7          [-1, 256, 16, 16]             512\n",
            "         LeakyReLU-8          [-1, 256, 16, 16]               0\n",
            "            Conv2d-9            [-1, 512, 8, 8]       2,097,152\n",
            "      BatchNorm2d-10            [-1, 512, 8, 8]           1,024\n",
            "        LeakyReLU-11            [-1, 512, 8, 8]               0\n",
            "           Conv2d-12           [-1, 1024, 4, 4]       8,388,608\n",
            "      BatchNorm2d-13           [-1, 1024, 4, 4]           2,048\n",
            "        LeakyReLU-14           [-1, 1024, 4, 4]               0\n",
            "           Conv2d-15              [-1, 1, 1, 1]          16,384\n",
            "          Sigmoid-16              [-1, 1, 1, 1]               0\n",
            "================================================================\n",
            "Total params: 11,162,368\n",
            "Trainable params: 11,162,368\n",
            "Non-trainable params: 0\n",
            "----------------------------------------------------------------\n",
            "Input size (MB): 0.06\n",
            "Forward/backward pass size (MB): 9.63\n",
            "Params size (MB): 42.58\n",
            "Estimated Total Size (MB): 52.27\n",
            "----------------------------------------------------------------\n"
          ]
        }
      ],
      "source": [
        "D= Discriminator().to(device)\n",
        "summary(D, (1, 128, 128))"
      ]
    },
    {
      "cell_type": "code",
      "execution_count": null,
      "id": "05c085f4-9693-4d78-952d-bde3cf993cf0",
      "metadata": {
        "colab": {
          "base_uri": "https://localhost:8080/"
        },
        "id": "05c085f4-9693-4d78-952d-bde3cf993cf0",
        "outputId": "12480b3f-fb6f-458d-8b7c-8454f3da7899"
      },
      "outputs": [
        {
          "output_type": "stream",
          "name": "stdout",
          "text": [
            "----------------------------------------------------------------\n",
            "        Layer (type)               Output Shape         Param #\n",
            "================================================================\n",
            "   ConvTranspose2d-1           [-1, 1024, 4, 4]       1,638,400\n",
            "       BatchNorm2d-2           [-1, 1024, 4, 4]           2,048\n",
            "              ReLU-3           [-1, 1024, 4, 4]               0\n",
            "   ConvTranspose2d-4            [-1, 512, 8, 8]       8,388,608\n",
            "       BatchNorm2d-5            [-1, 512, 8, 8]           1,024\n",
            "              ReLU-6            [-1, 512, 8, 8]               0\n",
            "   ConvTranspose2d-7          [-1, 256, 16, 16]       2,097,152\n",
            "       BatchNorm2d-8          [-1, 256, 16, 16]             512\n",
            "              ReLU-9          [-1, 256, 16, 16]               0\n",
            "  ConvTranspose2d-10          [-1, 128, 32, 32]         524,288\n",
            "      BatchNorm2d-11          [-1, 128, 32, 32]             256\n",
            "             ReLU-12          [-1, 128, 32, 32]               0\n",
            "  ConvTranspose2d-13           [-1, 64, 64, 64]         131,072\n",
            "      BatchNorm2d-14           [-1, 64, 64, 64]             128\n",
            "             ReLU-15           [-1, 64, 64, 64]               0\n",
            "  ConvTranspose2d-16          [-1, 1, 128, 128]           1,024\n",
            "             Tanh-17          [-1, 1, 128, 128]               0\n",
            "================================================================\n",
            "Total params: 12,784,512\n",
            "Trainable params: 12,784,512\n",
            "Non-trainable params: 0\n",
            "----------------------------------------------------------------\n",
            "Input size (MB): 0.00\n",
            "Forward/backward pass size (MB): 11.88\n",
            "Params size (MB): 48.77\n",
            "Estimated Total Size (MB): 60.64\n",
            "----------------------------------------------------------------\n"
          ]
        }
      ],
      "source": [
        "noise_dim = 100\n",
        "# Create the generator model\n",
        "G = Generator(noise_dim).to(device)\n",
        "summary(G, (noise_dim, 1, 1))"
      ]
    },
    {
      "cell_type": "markdown",
      "id": "dbef8988-f3f3-462f-8957-2af9c30fa90f",
      "metadata": {
        "id": "dbef8988-f3f3-462f-8957-2af9c30fa90f"
      },
      "source": [
        "# Checkpoints functions"
      ]
    },
    {
      "cell_type": "code",
      "execution_count": null,
      "id": "6b694ce7-559f-4dd3-986a-f8cf7d5b3827",
      "metadata": {
        "id": "6b694ce7-559f-4dd3-986a-f8cf7d5b3827"
      },
      "outputs": [],
      "source": [
        "# Function to save checkpoints\n",
        "def save_checkpoint(epoch, G, D, G_opt, D_opt, checkpoint_dir):\n",
        "    checkpoint_path = os.path.join(checkpoint_dir, f'epoch_{epoch}.pth')\n",
        "    torch.save({\n",
        "        'epoch': epoch,\n",
        "        'G_state_dict': G.state_dict(),\n",
        "        'D_state_dict': D.state_dict(),\n",
        "        'G_opt_state_dict': G_opt.state_dict(),\n",
        "        'D_opt_state_dict': D_opt.state_dict(),\n",
        "    }, checkpoint_path)\n",
        "\n",
        "# Function to load checkpoints\n",
        "def load_checkpoint(checkpoint_path, G, D, G_opt, D_opt):\n",
        "    checkpoint = torch.load(checkpoint_path)\n",
        "    G.load_state_dict(checkpoint['G_state_dict'])\n",
        "    D.load_state_dict(checkpoint['D_state_dict'])\n",
        "    G_opt.load_state_dict(checkpoint['G_opt_state_dict'])\n",
        "    D_opt.load_state_dict(checkpoint['D_opt_state_dict'])\n",
        "    return checkpoint['epoch']\n"
      ]
    },
    {
      "cell_type": "markdown",
      "id": "f250e524-41e8-48aa-bf94-3b8101d5cafc",
      "metadata": {
        "jp-MarkdownHeadingCollapsed": true,
        "id": "f250e524-41e8-48aa-bf94-3b8101d5cafc"
      },
      "source": [
        "# training  tests"
      ]
    },
    {
      "cell_type": "code",
      "execution_count": null,
      "id": "a7673d2f-33be-444b-b7a9-247d3ef87eee",
      "metadata": {
        "id": "a7673d2f-33be-444b-b7a9-247d3ef87eee"
      },
      "outputs": [],
      "source": [
        "def show_tensor_images(tensor_img, num_images = 16, size=(1, 28, 28)):\n",
        "\n",
        "    unflat_img = tensor_img.detach().cpu()\n",
        "    img_grid = make_grid(unflat_img[:num_images], nrow=4)\n",
        "    plt.imshow(img_grid.permute(1, 2, 0).squeeze())\n",
        "    plt.show()\n"
      ]
    },
    {
      "cell_type": "code",
      "execution_count": null,
      "id": "62ada5a1-db62-488c-9300-d84bbb10c18f",
      "metadata": {
        "id": "62ada5a1-db62-488c-9300-d84bbb10c18f"
      },
      "outputs": [],
      "source": [
        "# Hyperparameters\n",
        "batch_size = 128\n",
        "epochs = 80\n",
        "lr = 0.0002\n",
        "beta1 = 0.5\n",
        "noise_dim = 100  # Size of the latent vector (input noise)\n",
        "\n",
        "# Initialize models\n",
        "G = Generator(noise_dim).to(device)\n",
        "D = Discriminator().to(device)\n",
        "\n",
        "# Loss function\n",
        "criterion = nn.BCELoss()\n",
        "\n",
        "# Optimizers\n",
        "G_opt = optim.Adam(G.parameters(), lr=lr, betas=(beta1, 0.999))\n",
        "D_opt = optim.Adam(D.parameters(), lr=lr, betas=(beta1, 0.999))\n",
        "\n",
        "g_losses = []\n",
        "d_losses = []"
      ]
    },
    {
      "cell_type": "code",
      "execution_count": null,
      "id": "04e46eab-0c7b-4866-a88c-ffc8c6d556d0",
      "metadata": {
        "scrolled": true,
        "colab": {
          "base_uri": "https://localhost:8080/"
        },
        "id": "04e46eab-0c7b-4866-a88c-ffc8c6d556d0",
        "outputId": "a4136872-182e-4dc7-a186-54bdc7bd2377"
      },
      "outputs": [
        {
          "output_type": "stream",
          "name": "stdout",
          "text": [
            "Mounted at /content/drive\n",
            "Start training ....\n",
            "Epoch: 1\n"
          ]
        },
        {
          "output_type": "stream",
          "name": "stderr",
          "text": [
            "100%|██████████| 92/92 [04:26<00:00,  2.90s/it]\n"
          ]
        },
        {
          "output_type": "stream",
          "name": "stdout",
          "text": [
            "Discriminator loss = 0.03563414430802526 | Generator loss = 8.84304990975753\n",
            "Time taken for epoch 1: 267.00 seconds\n",
            "Epoch: 2\n"
          ]
        },
        {
          "output_type": "stream",
          "name": "stderr",
          "text": [
            "100%|██████████| 92/92 [04:26<00:00,  2.89s/it]\n"
          ]
        },
        {
          "output_type": "stream",
          "name": "stdout",
          "text": [
            "Discriminator loss = 0.0007500189123042535 | Generator loss = 8.383131561071977\n",
            "Time taken for epoch 2: 266.11 seconds\n",
            "Epoch: 3\n"
          ]
        },
        {
          "output_type": "stream",
          "name": "stderr",
          "text": [
            "100%|██████████| 92/92 [04:19<00:00,  2.82s/it]\n"
          ]
        },
        {
          "output_type": "stream",
          "name": "stdout",
          "text": [
            "Discriminator loss = 0.4604238701170328 | Generator loss = 9.71070117732186\n",
            "Time taken for epoch 3: 259.47 seconds\n",
            "Epoch: 4\n"
          ]
        },
        {
          "output_type": "stream",
          "name": "stderr",
          "text": [
            "100%|██████████| 92/92 [04:18<00:00,  2.81s/it]\n"
          ]
        },
        {
          "output_type": "stream",
          "name": "stdout",
          "text": [
            "Discriminator loss = 0.6065855807746234 | Generator loss = 2.6571184195902036\n",
            "Time taken for epoch 4: 258.80 seconds\n",
            "Epoch: 5\n"
          ]
        },
        {
          "output_type": "stream",
          "name": "stderr",
          "text": [
            "100%|██████████| 92/92 [04:18<00:00,  2.81s/it]\n"
          ]
        },
        {
          "output_type": "stream",
          "name": "stdout",
          "text": [
            "Discriminator loss = 0.5477824478369692 | Generator loss = 2.578090838116148\n",
            "Time taken for epoch 5: 258.32 seconds\n",
            "Epoch: 6\n"
          ]
        },
        {
          "output_type": "stream",
          "name": "stderr",
          "text": [
            "100%|██████████| 92/92 [04:17<00:00,  2.80s/it]\n"
          ]
        },
        {
          "output_type": "stream",
          "name": "stdout",
          "text": [
            "Discriminator loss = 0.49278529798207077 | Generator loss = 2.810159637876179\n",
            "Time taken for epoch 6: 257.93 seconds\n",
            "Epoch: 7\n"
          ]
        },
        {
          "output_type": "stream",
          "name": "stderr",
          "text": [
            "100%|██████████| 92/92 [04:16<00:00,  2.79s/it]\n"
          ]
        },
        {
          "output_type": "stream",
          "name": "stdout",
          "text": [
            "Discriminator loss = 0.5542853775879611 | Generator loss = 2.585843225536139\n",
            "Time taken for epoch 7: 256.38 seconds\n",
            "Epoch: 8\n"
          ]
        },
        {
          "output_type": "stream",
          "name": "stderr",
          "text": [
            "100%|██████████| 92/92 [04:17<00:00,  2.80s/it]\n"
          ]
        },
        {
          "output_type": "stream",
          "name": "stdout",
          "text": [
            "Discriminator loss = 0.5137591397632724 | Generator loss = 2.665492350316566\n",
            "Time taken for epoch 8: 257.22 seconds\n",
            "Epoch: 9\n"
          ]
        },
        {
          "output_type": "stream",
          "name": "stderr",
          "text": [
            "100%|██████████| 92/92 [04:12<00:00,  2.75s/it]\n"
          ]
        },
        {
          "output_type": "stream",
          "name": "stdout",
          "text": [
            "Discriminator loss = 0.518556798281877 | Generator loss = 2.726899607673935\n",
            "Time taken for epoch 9: 252.67 seconds\n",
            "Epoch: 10\n"
          ]
        },
        {
          "output_type": "stream",
          "name": "stderr",
          "text": [
            "100%|██████████| 92/92 [04:08<00:00,  2.70s/it]\n"
          ]
        },
        {
          "output_type": "stream",
          "name": "stdout",
          "text": [
            "Discriminator loss = 0.5328113864297452 | Generator loss = 2.714975191037292\n",
            "Time taken for epoch 10: 248.28 seconds\n",
            "Epoch: 11\n"
          ]
        },
        {
          "output_type": "stream",
          "name": "stderr",
          "text": [
            "100%|██████████| 92/92 [04:02<00:00,  2.64s/it]\n"
          ]
        },
        {
          "output_type": "stream",
          "name": "stdout",
          "text": [
            "Discriminator loss = 0.49399306414567906 | Generator loss = 2.7491884723953577\n",
            "Time taken for epoch 11: 242.74 seconds\n",
            "Epoch: 12\n"
          ]
        },
        {
          "output_type": "stream",
          "name": "stderr",
          "text": [
            "100%|██████████| 92/92 [04:01<00:00,  2.63s/it]\n"
          ]
        },
        {
          "output_type": "stream",
          "name": "stdout",
          "text": [
            "Discriminator loss = 0.490366181925587 | Generator loss = 3.002191404933515\n",
            "Time taken for epoch 12: 241.68 seconds\n",
            "Epoch: 13\n"
          ]
        },
        {
          "output_type": "stream",
          "name": "stderr",
          "text": [
            "100%|██████████| 92/92 [04:06<00:00,  2.68s/it]\n"
          ]
        },
        {
          "output_type": "stream",
          "name": "stdout",
          "text": [
            "Discriminator loss = 0.47706931764664856 | Generator loss = 2.9908958517986797\n",
            "Time taken for epoch 13: 246.52 seconds\n",
            "Epoch: 14\n"
          ]
        },
        {
          "output_type": "stream",
          "name": "stderr",
          "text": [
            "100%|██████████| 92/92 [04:04<00:00,  2.65s/it]\n"
          ]
        },
        {
          "output_type": "stream",
          "name": "stdout",
          "text": [
            "Discriminator loss = 0.47611150242712186 | Generator loss = 3.0761923945468403\n",
            "Time taken for epoch 14: 244.21 seconds\n",
            "Epoch: 15\n"
          ]
        },
        {
          "output_type": "stream",
          "name": "stderr",
          "text": [
            "100%|██████████| 92/92 [04:09<00:00,  2.72s/it]\n"
          ]
        },
        {
          "output_type": "stream",
          "name": "stdout",
          "text": [
            "Discriminator loss = 0.45526604629729106 | Generator loss = 3.2690198058667392\n",
            "Time taken for epoch 15: 249.92 seconds\n",
            "Epoch: 16\n"
          ]
        },
        {
          "output_type": "stream",
          "name": "stderr",
          "text": [
            "100%|██████████| 92/92 [04:10<00:00,  2.72s/it]\n"
          ]
        },
        {
          "output_type": "stream",
          "name": "stdout",
          "text": [
            "Discriminator loss = 0.4010678280306899 | Generator loss = 3.5162643518136893\n",
            "Time taken for epoch 16: 250.46 seconds\n",
            "Epoch: 17\n"
          ]
        },
        {
          "output_type": "stream",
          "name": "stderr",
          "text": [
            "100%|██████████| 92/92 [04:07<00:00,  2.69s/it]\n"
          ]
        },
        {
          "output_type": "stream",
          "name": "stdout",
          "text": [
            "Discriminator loss = 0.3865521393068459 | Generator loss = 3.570594038652337\n",
            "Time taken for epoch 17: 247.59 seconds\n",
            "Epoch: 18\n"
          ]
        },
        {
          "output_type": "stream",
          "name": "stderr",
          "text": [
            "100%|██████████| 92/92 [04:11<00:00,  2.73s/it]\n"
          ]
        },
        {
          "output_type": "stream",
          "name": "stdout",
          "text": [
            "Discriminator loss = 0.3906002386432627 | Generator loss = 3.835373386092808\n",
            "Time taken for epoch 18: 251.08 seconds\n",
            "Epoch: 19\n"
          ]
        },
        {
          "output_type": "stream",
          "name": "stderr",
          "text": [
            "100%|██████████| 92/92 [04:03<00:00,  2.64s/it]\n"
          ]
        },
        {
          "output_type": "stream",
          "name": "stdout",
          "text": [
            "Discriminator loss = 0.3640801409340423 | Generator loss = 3.9084340152533157\n",
            "Time taken for epoch 19: 243.10 seconds\n",
            "Epoch: 20\n"
          ]
        },
        {
          "output_type": "stream",
          "name": "stderr",
          "text": [
            "100%|██████████| 92/92 [04:00<00:00,  2.61s/it]\n"
          ]
        },
        {
          "output_type": "stream",
          "name": "stdout",
          "text": [
            "Discriminator loss = 0.3571844373870155 | Generator loss = 4.013747272284134\n",
            "Time taken for epoch 20: 240.38 seconds\n",
            "Epoch: 21\n"
          ]
        },
        {
          "output_type": "stream",
          "name": "stderr",
          "text": [
            "100%|██████████| 92/92 [04:01<00:00,  2.63s/it]\n"
          ]
        },
        {
          "output_type": "stream",
          "name": "stdout",
          "text": [
            "Discriminator loss = 0.3703904257196447 | Generator loss = 4.136589418286863\n",
            "Time taken for epoch 21: 241.98 seconds\n",
            "Epoch: 22\n"
          ]
        },
        {
          "output_type": "stream",
          "name": "stderr",
          "text": [
            "100%|██████████| 92/92 [03:57<00:00,  2.59s/it]\n"
          ]
        },
        {
          "output_type": "stream",
          "name": "stdout",
          "text": [
            "Discriminator loss = 0.3359768935681685 | Generator loss = 4.123355836971946\n",
            "Time taken for epoch 22: 237.92 seconds\n",
            "Epoch: 23\n"
          ]
        },
        {
          "output_type": "stream",
          "name": "stderr",
          "text": [
            "100%|██████████| 92/92 [03:56<00:00,  2.57s/it]\n"
          ]
        },
        {
          "output_type": "stream",
          "name": "stdout",
          "text": [
            "Discriminator loss = 0.3446669690310955 | Generator loss = 4.141465056201686\n",
            "Time taken for epoch 23: 236.38 seconds\n",
            "Epoch: 24\n"
          ]
        },
        {
          "output_type": "stream",
          "name": "stderr",
          "text": [
            "100%|██████████| 92/92 [03:59<00:00,  2.60s/it]\n"
          ]
        },
        {
          "output_type": "stream",
          "name": "stdout",
          "text": [
            "Discriminator loss = 0.32328077227525087 | Generator loss = 4.448706670947697\n",
            "Time taken for epoch 24: 239.59 seconds\n",
            "Epoch: 25\n"
          ]
        },
        {
          "output_type": "stream",
          "name": "stderr",
          "text": [
            "100%|██████████| 92/92 [03:53<00:00,  2.54s/it]\n"
          ]
        },
        {
          "output_type": "stream",
          "name": "stdout",
          "text": [
            "Discriminator loss = 0.31270468558954156 | Generator loss = 4.344877526164055\n",
            "Time taken for epoch 25: 233.71 seconds\n",
            "Epoch: 26\n"
          ]
        },
        {
          "output_type": "stream",
          "name": "stderr",
          "text": [
            "100%|██████████| 92/92 [03:57<00:00,  2.58s/it]\n"
          ]
        },
        {
          "output_type": "stream",
          "name": "stdout",
          "text": [
            "Discriminator loss = 0.3148312371062196 | Generator loss = 4.445311655168948\n",
            "Time taken for epoch 26: 237.13 seconds\n",
            "Epoch: 27\n"
          ]
        },
        {
          "output_type": "stream",
          "name": "stderr",
          "text": [
            "100%|██████████| 92/92 [03:56<00:00,  2.57s/it]\n"
          ]
        },
        {
          "output_type": "stream",
          "name": "stdout",
          "text": [
            "Discriminator loss = 0.23964356878043516 | Generator loss = 4.6738869275735775\n",
            "Time taken for epoch 27: 236.78 seconds\n",
            "Epoch: 28\n"
          ]
        },
        {
          "output_type": "stream",
          "name": "stderr",
          "text": [
            "100%|██████████| 92/92 [03:56<00:00,  2.57s/it]\n"
          ]
        },
        {
          "output_type": "stream",
          "name": "stdout",
          "text": [
            "Discriminator loss = 0.28621002626807795 | Generator loss = 4.888755956421727\n",
            "Time taken for epoch 28: 236.69 seconds\n",
            "Epoch: 29\n"
          ]
        },
        {
          "output_type": "stream",
          "name": "stderr",
          "text": [
            "100%|██████████| 92/92 [04:07<00:00,  2.69s/it]\n"
          ]
        },
        {
          "output_type": "stream",
          "name": "stdout",
          "text": [
            "Discriminator loss = 0.3063199217228786 | Generator loss = 4.770325870617576\n",
            "Time taken for epoch 29: 247.52 seconds\n",
            "Epoch: 30\n"
          ]
        },
        {
          "output_type": "stream",
          "name": "stderr",
          "text": [
            "100%|██████████| 92/92 [04:00<00:00,  2.62s/it]\n"
          ]
        },
        {
          "output_type": "stream",
          "name": "stdout",
          "text": [
            "Discriminator loss = 0.2365147613150918 | Generator loss = 4.7903935883356175\n",
            "Time taken for epoch 30: 240.80 seconds\n",
            "Epoch: 31\n"
          ]
        },
        {
          "output_type": "stream",
          "name": "stderr",
          "text": [
            "100%|██████████| 92/92 [04:00<00:00,  2.61s/it]\n"
          ]
        },
        {
          "output_type": "stream",
          "name": "stdout",
          "text": [
            "Discriminator loss = 0.2107151100088073 | Generator loss = 4.880696504012398\n",
            "Time taken for epoch 31: 240.19 seconds\n",
            "Epoch: 32\n"
          ]
        },
        {
          "output_type": "stream",
          "name": "stderr",
          "text": [
            "100%|██████████| 92/92 [04:03<00:00,  2.65s/it]\n"
          ]
        },
        {
          "output_type": "stream",
          "name": "stdout",
          "text": [
            "Discriminator loss = 0.22812456613325555 | Generator loss = 4.955657825521801\n",
            "Time taken for epoch 32: 243.69 seconds\n",
            "Epoch: 33\n"
          ]
        },
        {
          "output_type": "stream",
          "name": "stderr",
          "text": [
            "100%|██████████| 92/92 [04:00<00:00,  2.61s/it]\n"
          ]
        },
        {
          "output_type": "stream",
          "name": "stdout",
          "text": [
            "Discriminator loss = 0.25933036594854103 | Generator loss = 5.163259412931359\n",
            "Time taken for epoch 33: 240.56 seconds\n",
            "Epoch: 34\n"
          ]
        },
        {
          "output_type": "stream",
          "name": "stderr",
          "text": [
            "100%|██████████| 92/92 [03:59<00:00,  2.60s/it]\n"
          ]
        },
        {
          "output_type": "stream",
          "name": "stdout",
          "text": [
            "Discriminator loss = 0.13446581525647122 | Generator loss = 5.047786634901295\n",
            "Time taken for epoch 34: 239.61 seconds\n",
            "Epoch: 35\n"
          ]
        },
        {
          "output_type": "stream",
          "name": "stderr",
          "text": [
            "100%|██████████| 92/92 [03:58<00:00,  2.59s/it]\n"
          ]
        },
        {
          "output_type": "stream",
          "name": "stdout",
          "text": [
            "Discriminator loss = 0.20719064270024715 | Generator loss = 5.885315358638763\n",
            "Time taken for epoch 35: 238.44 seconds\n",
            "Epoch: 36\n"
          ]
        },
        {
          "output_type": "stream",
          "name": "stderr",
          "text": [
            "100%|██████████| 92/92 [03:56<00:00,  2.58s/it]\n"
          ]
        },
        {
          "output_type": "stream",
          "name": "stdout",
          "text": [
            "Discriminator loss = 0.2342308694091828 | Generator loss = 5.491020653558814\n",
            "Time taken for epoch 36: 236.99 seconds\n",
            "Epoch: 37\n"
          ]
        },
        {
          "output_type": "stream",
          "name": "stderr",
          "text": [
            "100%|██████████| 92/92 [04:00<00:00,  2.61s/it]\n"
          ]
        },
        {
          "output_type": "stream",
          "name": "stdout",
          "text": [
            "Discriminator loss = 0.23376776269920493 | Generator loss = 5.690827315268309\n",
            "Time taken for epoch 37: 240.32 seconds\n",
            "Epoch: 38\n"
          ]
        },
        {
          "output_type": "stream",
          "name": "stderr",
          "text": [
            " 49%|████▉     | 45/92 [02:03<02:05,  2.68s/it]"
          ]
        }
      ],
      "source": [
        "import os\n",
        "import time\n",
        "import torch\n",
        "import matplotlib.pyplot as plt\n",
        "from tqdm import tqdm\n",
        "from google.colab import drive\n",
        "\n",
        "# Mount Google Drive\n",
        "drive.mount('/content/drive')\n",
        "\n",
        "# Directory in Google Drive to save generated images\n",
        "generated_images_dir = '/content/drive/MyDrive/generated_images'\n",
        "os.makedirs(generated_images_dir, exist_ok=True)\n",
        "\n",
        "# Initialize lists to store losses\n",
        "g_losses = []\n",
        "d_losses = []\n",
        "\n",
        "print(\"Start training ....\")\n",
        "total_start_time = time.time()\n",
        "\n",
        "# Training Loop\n",
        "for epoch in range(epochs):\n",
        "    print(\"Epoch:\", epoch + 1)\n",
        "    epoch_start_time = time.time()\n",
        "    total_d_loss = 0.0\n",
        "    total_g_loss = 0.0\n",
        "\n",
        "    for batch_idx, real_img in enumerate(tqdm(dataloader)):\n",
        "        real_img = real_img.to(device)\n",
        "        noise = torch.randn(batch_size, noise_dim, 1, 1, device=device)\n",
        "\n",
        "        # Update Discriminator\n",
        "        D_opt.zero_grad()\n",
        "        fake_img = G(noise)\n",
        "        D_pred_fake = D(fake_img.detach())\n",
        "        D_fake_loss = criterion(D_pred_fake, torch.zeros_like(D_pred_fake))\n",
        "        D_pred_real = D(real_img)\n",
        "        D_real_loss = criterion(D_pred_real, torch.ones_like(D_pred_real))\n",
        "        disc_loss = (D_real_loss + D_fake_loss) / 2\n",
        "        total_d_loss += disc_loss.item()\n",
        "        disc_loss.backward()\n",
        "        D_opt.step()\n",
        "\n",
        "        # Update Generator\n",
        "        G_opt.zero_grad()\n",
        "        noise = torch.randn(batch_size, noise_dim, 1, 1, device=device)\n",
        "        fake_img = G(noise)\n",
        "        D_pred = D(fake_img)\n",
        "        G_loss = criterion(D_pred, torch.ones_like(D_pred))\n",
        "        total_g_loss += G_loss.item()\n",
        "        G_loss.backward()\n",
        "        G_opt.step()\n",
        "\n",
        "        # Save each generated image in this epoch\n",
        "        for i, image in enumerate(fake_img):\n",
        "            img_path = os.path.join(generated_images_dir, f\"epoch{epoch+1}_batch{batch_idx+1}_img{i+1}.png\")\n",
        "            image_cpu = image.detach().cpu().squeeze().numpy()\n",
        "            plt.imsave(img_path, image_cpu, cmap='gray')\n",
        "\n",
        "    # Calculate and store average losses\n",
        "    avg_d_loss = total_d_loss / len(dataloader)\n",
        "    avg_g_loss = total_g_loss / len(dataloader)\n",
        "    d_losses.append(avg_d_loss)\n",
        "    g_losses.append(avg_g_loss)\n",
        "    epoch_time = time.time() - epoch_start_time\n",
        "    print(f\"Discriminator loss = {avg_d_loss} | Generator loss = {avg_g_loss}\")\n",
        "\n",
        "    # Save model checkpoint\n",
        "    save_checkpoint(epoch, G, D, G_opt, D_opt, checkpoint_dir)\n",
        "    print(f\"Time taken for epoch {epoch + 1}: {epoch_time:.2f} seconds\")\n",
        "\n",
        "# Save final checkpoint\n",
        "save_checkpoint(epochs, G, D, G_opt, D_opt, checkpoint_dir)\n",
        "print(f\"Total training time: {total_time:.2f} seconds\")\n"
      ]
    },
    {
      "cell_type": "code",
      "execution_count": null,
      "id": "10e0f94a-3bc2-4f03-897e-e14fe3444e26",
      "metadata": {
        "id": "10e0f94a-3bc2-4f03-897e-e14fe3444e26"
      },
      "outputs": [],
      "source": [
        "# Plot the generator and discriminator losses\n",
        "plt.figure(figsize=(10,5))\n",
        "plt.plot(g_losses, label=\"Generator Loss\")\n",
        "plt.plot(d_losses, label=\"Discriminator Loss\")\n",
        "plt.title(\"Generator and Discriminator Loss During Training\")\n",
        "plt.xlabel(\"Epoch\")\n",
        "plt.ylabel(\"Loss\")\n",
        "plt.legend()\n",
        "plt.show()"
      ]
    },
    {
      "cell_type": "code",
      "source": [
        "# Inception Score (IS) function\n",
        "def calculate_inception_score(images, batch_size=32, splits=10):\n",
        "    model = inception_v3(pretrained=True, transform_input=False).to(device)\n",
        "    model.eval()\n",
        "\n",
        "    resize = Resize((299, 299))  # InceptionV3 expects 299x299 images\n",
        "    preds = []\n",
        "    with torch.no_grad():\n",
        "        for batch in DataLoader(images, batch_size=batch_size):\n",
        "            batch = batch.to(device)\n",
        "            batch = resize(batch)  # Resize the images\n",
        "            pred = model(batch)\n",
        "            preds.append(F.softmax(pred, dim=1).cpu().numpy())\n",
        "\n",
        "    preds = np.concatenate(preds, axis=0)\n",
        "\n",
        "    # Compute the inception score\n",
        "    scores = []\n",
        "    for i in range(splits):\n",
        "        part = preds[i * (len(preds) // splits): (i + 1) * (len(preds) // splits)]\n",
        "        kl = part * (np.log(part) - np.log(np.mean(part, axis=0)))\n",
        "        kl = np.mean(np.sum(kl, axis=1))\n",
        "        scores.append(np.exp(kl))\n",
        "\n",
        "    return np.mean(scores), np.std(scores)"
      ],
      "metadata": {
        "id": "cdIQsEsApqZj"
      },
      "id": "cdIQsEsApqZj",
      "execution_count": null,
      "outputs": []
    },
    {
      "cell_type": "code",
      "execution_count": null,
      "id": "43f1ab8f-ee3f-4d21-b312-f12fa8e35ccb",
      "metadata": {
        "id": "43f1ab8f-ee3f-4d21-b312-f12fa8e35ccb"
      },
      "outputs": [],
      "source": [
        "# Fréchet Inception Distance (FID) function\n",
        "def calculate_fid(real_images, generated_images, batch_size=32):\n",
        "    model = inception_v3(pretrained=True, transform_input=False).to(device)\n",
        "    model.eval()\n",
        "\n",
        "    resize = Resize((299, 299))  # InceptionV3 expects 299x299 images\n",
        "\n",
        "    def get_activations(images):\n",
        "        activations = []\n",
        "        with torch.no_grad():\n",
        "            for batch in DataLoader(images, batch_size=batch_size):\n",
        "                batch = batch.to(device)\n",
        "                batch = resize(batch)  # Resize the images\n",
        "                pred = model(batch)\n",
        "                activations.append(pred.cpu().numpy())\n",
        "        return np.concatenate(activations, axis=0)\n",
        "\n",
        "    real_activations = get_activations(real_images)\n",
        "    fake_activations = get_activations(generated_images)\n",
        "\n",
        "    # Calculate mean and covariance\n",
        "    mu_real, sigma_real = np.mean(real_activations, axis=0), np.cov(real_activations, rowvar=False)\n",
        "    mu_fake, sigma_fake = np.mean(fake_activations, axis=0), np.cov(fake_activations, rowvar=False)\n",
        "\n",
        "    # Calculate FID\n",
        "    diff = mu_real - mu_fake\n",
        "    covmean, _ = sqrtm(sigma_real.dot(sigma_fake), disp=False)\n",
        "    if np.iscomplexobj(covmean):\n",
        "        covmean = covmean.real\n",
        "\n",
        "    fid = np.sum(diff**2) + np.trace(sigma_real + sigma_fake - 2 * covmean)\n",
        "    return fid"
      ]
    },
    {
      "cell_type": "markdown",
      "id": "be024e4e-8ec9-4059-91cf-624b8eb7d893",
      "metadata": {
        "jp-MarkdownHeadingCollapsed": true,
        "id": "be024e4e-8ec9-4059-91cf-624b8eb7d893"
      },
      "source": [
        "# evaluation test\n"
      ]
    },
    {
      "cell_type": "code",
      "execution_count": null,
      "id": "9f9661a5-4c34-415f-bfda-861c9980710a",
      "metadata": {
        "id": "9f9661a5-4c34-415f-bfda-861c9980710a"
      },
      "outputs": [],
      "source": [
        "!pip install torch-fidelity"
      ]
    },
    {
      "cell_type": "code",
      "execution_count": null,
      "id": "63bbe5c3-d864-40c9-8a92-800b3bbf0de1",
      "metadata": {
        "id": "63bbe5c3-d864-40c9-8a92-800b3bbf0de1"
      },
      "outputs": [],
      "source": [
        "checkpoint_dir = './check_data2eval/'\n",
        "os.makedirs(checkpoint_dir, exist_ok=True)"
      ]
    },
    {
      "cell_type": "code",
      "execution_count": null,
      "id": "e25a1ab3-6b47-4fc9-bbea-d0a32fd84717",
      "metadata": {
        "id": "e25a1ab3-6b47-4fc9-bbea-d0a32fd84717"
      },
      "outputs": [],
      "source": [
        "# Hyperparameters\n",
        "batch_size = 128\n",
        "epochs = 80\n",
        "lr = 0.0002\n",
        "beta1 = 0.5\n",
        "noise_dim = 100  # Size of the latent vector (input noise)\n",
        "\n",
        "# Initialize models\n",
        "G = Generator(noise_dim).to(device)\n",
        "D = Discriminator().to(device)\n",
        "\n",
        "# Loss function\n",
        "criterion = nn.BCELoss()\n",
        "\n",
        "# Optimizers\n",
        "G_opt = optim.Adam(G.parameters(), lr=lr, betas=(beta1, 0.999))\n",
        "D_opt = optim.Adam(D.parameters(), lr=lr, betas=(beta1, 0.999))\n",
        "\n",
        "g_losses = []\n",
        "d_losses = []"
      ]
    },
    {
      "cell_type": "code",
      "execution_count": null,
      "id": "8e437177-87fd-4de2-815b-bf2479140179",
      "metadata": {
        "id": "8e437177-87fd-4de2-815b-bf2479140179"
      },
      "outputs": [],
      "source": [
        "import torch_fidelity\n",
        "from torchmetrics.image.fid import FrechetInceptionDistance\n",
        "from torchmetrics.image.inception import InceptionScore\n",
        "import torchvision.transforms as transforms\n",
        "import torch.nn.functional as F\n",
        "import numpy as np\n",
        "\n",
        "# Initialize FID and Inception Score\n",
        "fid = FrechetInceptionDistance().to(device)\n",
        "inception = InceptionScore().to(device)\n",
        "\n",
        "# Transform for resizing and normalizing images to Inception model's expected input\n",
        "resize_transform = transforms.Compose([\n",
        "    transforms.Resize((299, 299)),\n",
        "    transforms.Normalize([0.5], [0.5])  # Normalize to [-1, 1] which matches your normalized images\n",
        "])\n",
        "\n",
        "# Function to evaluate GAN using real and generated images\n",
        "def evaluate_gan(real_images, generated_images):\n",
        "    # Resize and normalize images for the Inception model\n",
        "    real_images_resized = resize_transform(real_images)\n",
        "    fake_images_resized = resize_transform(generated_images)\n",
        "\n",
        "    # Update FID with real and fake images\n",
        "    fid.update(real_images_resized, real=True)\n",
        "    fid.update(fake_images_resized, real=False)\n",
        "\n",
        "    # Update Inception Score with fake images\n",
        "    inception.update(fake_images_resized)\n",
        "\n",
        "    # Compute FID and Inception Score\n",
        "    fid_score = fid.compute().item()\n",
        "    inception_score = inception.compute()[0].item()\n",
        "\n",
        "    print(f'FID Score: {fid_score}')\n",
        "    print(f'Inception Score: {inception_score}')\n",
        "\n",
        "    # Reset for the next epoch\n",
        "    fid.reset()\n",
        "    inception.reset()\n",
        "\n",
        "# Your existing GAN training loop\n",
        "for epoch in range(epochs):\n",
        "    print(\"Epoch:\", epoch + 1)\n",
        "\n",
        "    total_d_loss = 0.0\n",
        "    total_g_loss = 0.0\n",
        "\n",
        "    for real_img in tqdm(dataloader):\n",
        "        real_img = real_img.to(device)\n",
        "        noise = torch.randn(batch_size, noise_dim, 1, 1, device=device)\n",
        "\n",
        "        # Update Discriminator\n",
        "        D_opt.zero_grad()\n",
        "\n",
        "        # Fake loss\n",
        "        fake_img = G(noise)\n",
        "        D_pred_fake = D(fake_img.detach())\n",
        "        D_fake_loss = criterion(D_pred_fake, torch.zeros_like(D_pred_fake))\n",
        "\n",
        "        # Real loss\n",
        "        D_pred_real = D(real_img)\n",
        "        D_real_loss = criterion(D_pred_real, torch.ones_like(D_pred_real))\n",
        "\n",
        "        # Total discriminator loss\n",
        "        disc_loss = (D_real_loss + D_fake_loss) / 2\n",
        "        total_d_loss += disc_loss.item()\n",
        "\n",
        "        disc_loss.backward()\n",
        "        D_opt.step()\n",
        "\n",
        "        # Update Generator\n",
        "        G_opt.zero_grad()\n",
        "\n",
        "        noise = torch.randn(batch_size, noise_dim, 1, 1, device=device)\n",
        "        fake_img = G(noise)\n",
        "        D_pred = D(fake_img)\n",
        "        G_loss = criterion(D_pred, torch.ones_like(D_pred))\n",
        "        total_g_loss += G_loss.item()\n",
        "\n",
        "        G_loss.backward()\n",
        "        G_opt.step()\n",
        "\n",
        "    # Calculate average losses for the epoch\n",
        "    avg_d_loss = total_d_loss / len(dataloader)\n",
        "    avg_g_loss = total_g_loss / len(dataloader)\n",
        "\n",
        "    print(f\"Discriminator loss = {avg_d_loss} | Generator loss = {avg_g_loss}\")\n",
        "\n",
        "    # Evaluate the GAN using real and generated images\n",
        "    evaluate_gan(real_img, fake_img)\n",
        "\n",
        "    # Save checkpoints, images, etc.\n",
        "    save_checkpoint(epoch, G, D, G_opt, D_opt, checkpoint_dir)\n",
        "\n",
        "# Save the final checkpoint after training\n",
        "save_checkpoint(epochs, G, D, G_opt, D_opt, checkpoint_dir)\n"
      ]
    },
    {
      "cell_type": "code",
      "source": [
        "#Authored by Suhanee Hingorani and Krisha Aggarwal"
      ],
      "metadata": {
        "id": "esvgPUSuYhZc"
      },
      "id": "esvgPUSuYhZc",
      "execution_count": 1,
      "outputs": []
    },
    {
      "cell_type": "code",
      "source": [],
      "metadata": {
        "id": "NpViXLKneh6N"
      },
      "id": "NpViXLKneh6N",
      "execution_count": null,
      "outputs": []
    }
  ],
  "metadata": {
    "kernelspec": {
      "display_name": "Python 3",
      "name": "python3"
    },
    "language_info": {
      "codemirror_mode": {
        "name": "ipython",
        "version": 3
      },
      "file_extension": ".py",
      "mimetype": "text/x-python",
      "name": "python",
      "nbconvert_exporter": "python",
      "pygments_lexer": "ipython3",
      "version": "3.12.4"
    },
    "colab": {
      "provenance": [],
      "gpuType": "T4"
    },
    "accelerator": "GPU"
  },
  "nbformat": 4,
  "nbformat_minor": 5
}